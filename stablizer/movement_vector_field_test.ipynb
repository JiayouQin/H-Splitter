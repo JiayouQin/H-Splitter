{
 "cells": [
  {
   "cell_type": "code",
   "execution_count": 141,
   "id": "823350fa",
   "metadata": {
    "scrolled": true
   },
   "outputs": [],
   "source": [
    "'''\n",
    "Jiayou Qin 03/18/2024\n",
    "SIFT based analyzer\n",
    "'''\n",
    "\n",
    "import numpy as np\n",
    "import cv2 as cv\n",
    "import matplotlib.pyplot as plt\n",
    " \n",
    "# video_path = \"../gpt/Street normal.mp4\" #change this file name as needed\n",
    "video_path = \"rotationTest.mp4\"\n",
    "cap = cv.VideoCapture(video_path)\n",
    "\n",
    "\n",
    "visual_intensity = 1\n",
    "visualize_points = False\n",
    "visualize_cursor = True\n",
    "\n",
    "for i in range(50): #skip frames, must be larger than 1\n",
    "    success, frame = cap.read()\n",
    "# frame = cv.rotate(frame, cv.ROTATE_90_CLOCKWISE)\n",
    "sift = cv.SIFT_create()\n",
    "frame = cv.resize(frame,(800,600))\n",
    "y,x = frame.shape[:2]\n",
    "center = np.array([x/2,y/2], dtype=float)\n",
    "cursor = center.copy()\n",
    "\n",
    "last_frame = frame\n",
    "kp, des = sift.detectAndCompute(frame,None)\n",
    "cv.namedWindow('p1_p2',cv.WINDOW_NORMAL)\n",
    "cv.namedWindow('trans_p2',cv.WINDOW_NORMAL)\n",
    "cv.imshow('p1_p2', frame)\n",
    "cv.waitKey(0) #press key to begin\n",
    "\n",
    "rot_m = np.array((2,3),)\n",
    "\n",
    "last_m = None\n",
    "while True:\n",
    "    for i in range(5):\n",
    "        success, frame = cap.read()\n",
    "    if not success:\n",
    "        break\n",
    "    angles = np.array([],dtype=float)\n",
    "    delta = np.array([],dtype=float)\n",
    "    p1s = np.array([],dtype=float)\n",
    "    p2s = np.array([],dtype=float)\n",
    "    frame = cv.resize(frame,(800,600))\n",
    "#     frame = cv.rotate(frame, cv.ROTATE_90_CLOCKWISE)\n",
    "    frame_trans_p2 = frame.copy()\n",
    "    out_frame = frame.copy()\n",
    "    if not success:\n",
    "        break\n",
    "        \n",
    "    kp_,des_ = kp,des\n",
    "    kp, des = sift.detectAndCompute(frame,None)\n",
    "    bf = cv.BFMatcher()\n",
    "    matches = bf.knnMatch(des,des_,k=2)\n",
    "    # Apply ratio test\n",
    "    good = []\n",
    "    for m,n in matches:\n",
    "        if m.distance < 0.75*n.distance:\n",
    "            p1 = np.array(kp[m.queryIdx].pt, dtype=float)\n",
    "            p2 = np.array(kp_[m.trainIdx].pt, dtype=float)\n",
    "            p1s = np.insert(p1s, 0, p1) #delta vector, indicating pixel change\n",
    "            p2s = np.insert(p2s, 0, p2)\n",
    "            \n",
    "    delta = p1s - p2s\n",
    "    p1s = p1s.reshape(-1,2)\n",
    "    p2s = p2s.reshape(-1,2)\n",
    "\n",
    "    \n",
    "    \n",
    "    trans_m,_ = cv.estimateAffine2D(p1s,p2s)\n",
    "    # apply affine transformation to points in the last frame to estimate camera motions, result is stable\n",
    "    p1s_trans = cv.transform( np.array([p1s]),trans_m)[0] \n",
    "    #pure motion movement and noise\n",
    "    delta = p2s - p1s_trans  \n",
    "    #use mean value of magnitude to filter out large noise\n",
    "    magnitudes = np.sqrt((delta ** 2).sum(-1))[..., np.newaxis] \n",
    "    mean = np.mean(magnitudes)\n",
    "    mask = (magnitudes > mean*5)[:,0]\n",
    "    \n",
    "    p1s = np.delete(p1s,mask,0)\n",
    "    p2s = np.delete(p2s,mask,0)\n",
    "    p1s_trans = np.delete(p1s_trans,mask,0)\n",
    "\n",
    "    for i in range(len(p1s)):\n",
    "        p1, p1_trans,p2 = p1s[i],p1s_trans[i],p2s[i]\n",
    "        cv.circle(frame_trans_p2, p2.astype(int),2, (0,255,255) )\n",
    "        cv.arrowedLine(frame_trans_p2,p1_trans.astype(int), p2.astype(int), (0,0,255),1)\n",
    "        cv.arrowedLine(frame, p1.astype(int),p2.astype(int), (0,0,255),1)\n",
    "\n",
    "    \n",
    "    \n",
    "    trans = cv.warpAffine(frame, trans_m, frame.shape[:2][::-1])\n",
    "    cv.imshow('trans_p2', frame_trans_p2)\n",
    "    cv.imshow('p1_p2', frame)\n",
    "#     cv.imshow('vector field', out_frame)1\n",
    "    k = cv.waitKey(5)\n",
    "    if k ==27:\n",
    "        break\n",
    "    \n",
    "    last_frame = frame\n",
    "    \n",
    "#     break;\n",
    "cap.release()\n",
    "cv.destroyAllWindows()\n"
   ]
  },
  {
   "cell_type": "code",
   "execution_count": 123,
   "id": "1fae1957",
   "metadata": {},
   "outputs": [
    {
     "data": {
      "text/plain": [
       "(967, 2)"
      ]
     },
     "execution_count": 123,
     "metadata": {},
     "output_type": "execute_result"
    }
   ],
   "source": [
    "p1s.shape\n",
    "\n",
    "p.shape"
   ]
  },
  {
   "cell_type": "code",
   "execution_count": 121,
   "id": "f206c524",
   "metadata": {},
   "outputs": [
    {
     "data": {
      "text/plain": [
       "(989, 2)"
      ]
     },
     "execution_count": 121,
     "metadata": {},
     "output_type": "execute_result"
    }
   ],
   "source": [
    "p1s.shape"
   ]
  },
  {
   "cell_type": "code",
   "execution_count": null,
   "id": "48f831bc",
   "metadata": {},
   "outputs": [],
   "source": []
  }
 ],
 "metadata": {
  "kernelspec": {
   "display_name": "Python 3 (ipykernel)",
   "language": "python",
   "name": "python3"
  },
  "language_info": {
   "codemirror_mode": {
    "name": "ipython",
    "version": 3
   },
   "file_extension": ".py",
   "mimetype": "text/x-python",
   "name": "python",
   "nbconvert_exporter": "python",
   "pygments_lexer": "ipython3",
   "version": "3.9.12"
  }
 },
 "nbformat": 4,
 "nbformat_minor": 5
}

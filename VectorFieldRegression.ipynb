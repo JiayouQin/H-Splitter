{
 "cells": [
  {
   "cell_type": "code",
   "execution_count": 76,
   "id": "823350fa",
   "metadata": {},
   "outputs": [],
   "source": [
    "'''\n",
    "Jiayou Qin 03/18/2024\n",
    "SIFT based analyzer\n",
    "'''\n",
    "\n",
    "import numpy as np\n",
    "import cv2 as cv\n",
    "import matplotlib.pyplot as plt\n",
    " \n",
    "video_path = \"../gpt/Scene_BikePath.mp4\" #change this file name as needed\n",
    "cap = cv.VideoCapture(video_path)\n",
    "\n",
    "\n",
    "visual_intensity = 1\n",
    "visualize_points = False\n",
    "visualize_cursor = True\n",
    "\n",
    "for i in range(15): #skip frames, must be larger than 1\n",
    "    success, frame = cap.read()\n",
    "# frame = cv.rotate(frame, cv.ROTATE_90_CLOCKWISE)\n",
    "sift = cv.SIFT_create()\n",
    "frame = cv.resize(frame,(800,600))\n",
    "y,x = frame.shape[:2]\n",
    "center = np.array([x/2,y/2], dtype=float)\n",
    "cursor = center.copy()\n",
    "\n",
    "last_frame = frame\n",
    "kp, des = sift.detectAndCompute(frame,None)\n",
    "cv.namedWindow('image',cv.WINDOW_NORMAL)\n",
    "cv.imshow('image', frame)\n",
    "cv.waitKey(0) #press key to begin\n",
    "\n",
    "last_m = None\n",
    "while True:\n",
    "    for i in range(5):\n",
    "        success, frame = cap.read()\n",
    "    if not success:\n",
    "        break\n",
    "    angles = np.array([],dtype=float)\n",
    "    delta = np.array([],dtype=float)\n",
    "    pos = np.array([],dtype=float)\n",
    "    frame = cv.resize(frame,(800,600))\n",
    "#     frame = cv.rotate(frame, cv.ROTATE_90_CLOCKWISE)\n",
    "    out_frame = frame.copy()\n",
    "    if not success:\n",
    "        break\n",
    "        \n",
    "    kp_,des_ = kp,des\n",
    "    kp, des = sift.detectAndCompute(frame,None)\n",
    "    bf = cv.BFMatcher()\n",
    "    matches = bf.knnMatch(des,des_,k=2)\n",
    "    # Apply ratio test\n",
    "    good = []\n",
    "    for m,n in matches:\n",
    "        if m.distance < 0.75*n.distance:\n",
    "            p1 = np.array(kp[m.queryIdx].pt, dtype=float)\n",
    "            p2 = np.array(kp_[m.trainIdx].pt, dtype=float)\n",
    "            delta = np.insert(delta, 0, p2-p1) #delta vector, indicating pixel change\n",
    "            pos = np.insert(pos,0,p2)\n",
    "            cv.circle(out_frame, p2.astype(int),2, (0,255,255) )\n",
    "            cv.arrowedLine(out_frame, p2.astype(int),p1.astype(int), (0,0,255),1)\n",
    "            \n",
    "            \n",
    "    pos = pos.reshape(-1,2)        \n",
    "    delta = delta.reshape(-1,2)\n",
    "\n",
    "    vainishing_point = np.array([400,300])\n",
    "    \n",
    "    v = vainishing_point - pos #vector from position to vainishing point\n",
    "    magnitudes = np.sqrt((v ** 2).sum(-1))[..., np.newaxis]\n",
    "    v/= magnitudes #normalized vector from pixel position to vainishing point\n",
    "    magnitudes = np.sqrt((delta ** 2).sum(-1))[..., np.newaxis]\n",
    "    delta /= magnitudes\n",
    "    \n",
    "    regression_value = np.sum(delta-v)  #regress this to minimal value\n",
    "    cv.putText(out_frame, f'{regression_value}', (50,50), cv.FONT_HERSHEY_SIMPLEX , 1, (255,255,255), 2, cv.LINE_AA) \n",
    "    \n",
    "    cv.imshow('image', out_frame)\n",
    "    k = cv.waitKey(1)\n",
    "    if k ==27:\n",
    "        break\n",
    "    \n",
    "    last_frame = frame\n",
    "    \n",
    "#     break;\n",
    "cap.release()\n",
    "cv.destroyAllWindows()\n"
   ]
  },
  {
   "cell_type": "code",
   "execution_count": 57,
   "id": "1fae1957",
   "metadata": {},
   "outputs": [
    {
     "data": {
      "text/plain": [
       "-1185.8293496488577"
      ]
     },
     "execution_count": 57,
     "metadata": {},
     "output_type": "execute_result"
    }
   ],
   "source": [
    "regression_value"
   ]
  },
  {
   "cell_type": "code",
   "execution_count": null,
   "id": "f206c524",
   "metadata": {},
   "outputs": [],
   "source": []
  }
 ],
 "metadata": {
  "kernelspec": {
   "display_name": "Python 3 (ipykernel)",
   "language": "python",
   "name": "python3"
  },
  "language_info": {
   "codemirror_mode": {
    "name": "ipython",
    "version": 3
   },
   "file_extension": ".py",
   "mimetype": "text/x-python",
   "name": "python",
   "nbconvert_exporter": "python",
   "pygments_lexer": "ipython3",
   "version": "3.9.12"
  }
 },
 "nbformat": 4,
 "nbformat_minor": 5
}
